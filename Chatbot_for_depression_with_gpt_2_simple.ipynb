{
  "cells": [
    {
      "cell_type": "markdown",
      "metadata": {
        "id": "view-in-github",
        "colab_type": "text"
      },
      "source": [
        "<a href=\"https://colab.research.google.com/github/rashidkisejjere0784/depression-chatbot/blob/main/Chatbot_for_depression_with_gpt_2_simple.ipynb\" target=\"_parent\"><img src=\"https://colab.research.google.com/assets/colab-badge.svg\" alt=\"Open In Colab\"/></a>"
      ]
    },
    {
      "cell_type": "code",
      "execution_count": 1,
      "metadata": {
        "colab": {
          "base_uri": "https://localhost:8080/"
        },
        "id": "c8yPEERBOEP5",
        "outputId": "20b11776-ddd9-487f-cb94-4b15f27b180f"
      },
      "outputs": [
        {
          "output_type": "stream",
          "name": "stdout",
          "text": [
            "Looking in indexes: https://pypi.org/simple, https://us-python.pkg.dev/colab-wheels/public/simple/\n",
            "Requirement already satisfied: pyyaml in /usr/local/lib/python3.7/dist-packages (6.0)\n"
          ]
        }
      ],
      "source": [
        "!pip install pyyaml"
      ]
    },
    {
      "cell_type": "code",
      "execution_count": 2,
      "metadata": {
        "id": "zN3Moj5AOEKZ"
      },
      "outputs": [],
      "source": [
        "import yaml\n",
        "\n",
        "file = open(\"depression.yml\", \"r\")\n",
        "\n",
        "data = yaml.load(file, Loader = yaml.FullLoader)"
      ]
    },
    {
      "cell_type": "code",
      "execution_count": 3,
      "metadata": {
        "id": "9JXFvxvwOEFJ"
      },
      "outputs": [],
      "source": [
        "Conversations = data[\"conversations\"]"
      ]
    },
    {
      "cell_type": "code",
      "execution_count": 4,
      "metadata": {
        "id": "YispWcg7OD7w"
      },
      "outputs": [],
      "source": [
        "text = \"\""
      ]
    },
    {
      "cell_type": "code",
      "execution_count": 5,
      "metadata": {
        "id": "zkBLoF1ZODvu",
        "colab": {
          "base_uri": "https://localhost:8080/"
        },
        "outputId": "3d491c6e-c018-4182-c261-49293b320a61"
      },
      "outputs": [
        {
          "output_type": "execute_result",
          "data": {
            "text/plain": [
              "51"
            ]
          },
          "metadata": {},
          "execution_count": 5
        }
      ],
      "source": [
        "len(Conversations)"
      ]
    },
    {
      "cell_type": "code",
      "source": [
        "for i in range(len(Conversations)):\n",
        "  qn = Conversations[i][0]\n",
        "  answer = \" \".join(Conversations[i][1:])\n",
        "\n",
        "  text += \"<!QN!>\" + qn + \"<!/QN!>\" + answer + \"<!done!>\""
      ],
      "metadata": {
        "id": "G8VqBQr4m0Uc"
      },
      "execution_count": 6,
      "outputs": []
    },
    {
      "cell_type": "code",
      "source": [
        "!pip install -q gpt-2-simple\n",
        "import gpt_2_simple as gpt2"
      ],
      "metadata": {
        "id": "3C8JQFFQm0E5"
      },
      "execution_count": 7,
      "outputs": []
    },
    {
      "cell_type": "code",
      "source": [
        "gpt2.download_gpt2(model_name=\"124M\")"
      ],
      "metadata": {
        "colab": {
          "base_uri": "https://localhost:8080/"
        },
        "id": "387g8R3Qmz-2",
        "outputId": "2159896c-968e-4731-a371-5635944f79f3"
      },
      "execution_count": 8,
      "outputs": [
        {
          "output_type": "stream",
          "name": "stderr",
          "text": [
            "Fetching checkpoint: 1.05Mit [00:00, 232Mit/s]                                                      \n",
            "Fetching encoder.json: 1.05Mit [00:00, 1.06Mit/s]\n",
            "Fetching hparams.json: 1.05Mit [00:00, 387Mit/s]                                                    \n",
            "Fetching model.ckpt.data-00000-of-00001: 498Mit [00:49, 10.1Mit/s]\n",
            "Fetching model.ckpt.index: 1.05Mit [00:00, 557Mit/s]                                                \n",
            "Fetching model.ckpt.meta: 1.05Mit [00:00, 1.21Mit/s]\n",
            "Fetching vocab.bpe: 1.05Mit [00:00, 1.42Mit/s]\n"
          ]
        }
      ]
    },
    {
      "cell_type": "code",
      "source": [
        "with open(\"text file.txt\", \"w\") as file:\n",
        "  file.writelines(text)"
      ],
      "metadata": {
        "id": "YZ2ddPm_mz5N"
      },
      "execution_count": 9,
      "outputs": []
    },
    {
      "cell_type": "code",
      "source": [
        "file_name = \"text file.txt\""
      ],
      "metadata": {
        "id": "mqk3-LiBmzwZ"
      },
      "execution_count": 10,
      "outputs": []
    },
    {
      "cell_type": "code",
      "source": [
        "sess = gpt2.start_tf_sess()\n",
        "\n",
        "gpt2.finetune(sess,\n",
        "              dataset=file_name,\n",
        "              model_name='124M',\n",
        "              steps=150,\n",
        "              restore_from='fresh',\n",
        "              run_name='run1',\n",
        "              print_every=10,\n",
        "              sample_every=20,\n",
        "              save_every=50\n",
        "              )"
      ],
      "metadata": {
        "colab": {
          "base_uri": "https://localhost:8080/"
        },
        "id": "ID24wa5Smzo5",
        "outputId": "975439ad-c786-4b32-9532-1f2975bd3930"
      },
      "execution_count": 11,
      "outputs": [
        {
          "output_type": "stream",
          "name": "stdout",
          "text": [
            "Loading checkpoint models/124M/model.ckpt\n",
            "Loading dataset...\n"
          ]
        },
        {
          "output_type": "stream",
          "name": "stderr",
          "text": [
            "100%|██████████| 1/1 [00:00<00:00, 3785.47it/s]"
          ]
        },
        {
          "output_type": "stream",
          "name": "stdout",
          "text": [
            "dataset has 3602 tokens\n",
            "Training...\n"
          ]
        },
        {
          "output_type": "stream",
          "name": "stderr",
          "text": [
            "\n"
          ]
        },
        {
          "output_type": "stream",
          "name": "stdout",
          "text": [
            "[10 | 25.86] loss=1.39 avg=1.39\n",
            "[20 | 48.29] loss=0.39 avg=0.89\n",
            "======== SAMPLE 1 ========\n",
            "though you feel bad for yourself, stop thinking. There's a cure for that, pal. The best pill to lose weight is insulin). If you're worried you'll lose weight, try a different type of antidepressant such as anandamide, and see how you feel. If your moods are improving and you're feeling better, you may need to lose some weight. 3.8 ) What is the 5-HT3P system by disease etiology? The 5-HT3P system—often called the \"feedback loop\"—is the brain's \"gatekeeper.\" The nervous system secures communication with chemicals in the brain that can reduce or eliminate harmful substances. The nervous system's ability to control one's thoughts and actions has been likened to a person's ability to remember numbers. There are a variety of different forms of the nervous system, some of which are referred to as the nervous system (passive, into unconscious, or in the brain)). The nervous system's actions and perceptions are a result of the nervous system's actions and actions brain. The nervous system's thought patterns, such as those found in the brain, allow it to process and process information at high speeds. The nervous system's attentional control and ability to control one's thoughts and actions is a result of the nervous process's actions and actions brain. The nervous system's ability to love and respect people is an important part of who we are as humans. If you have the brain, the body, or the spirit to control an emotional state, you have the talent to make people feel loved and appreciated. The more we care for one another and the world around us, the more love and understanding we can provide each other. <<< Open in a new window The 5-HT3P system—often called the \"feedback loop,\" is the brain's \"gatekeeper.\" The nervous process secures communication with chemicals in the brain that can reduce or eliminate harmful substances. The nervous system's ability to control one's mind and actions has been likened to a person's ability to remember numbers. There are a variety of different forms of the nervous system, some of which are referred to as the nervous system (passive, into unconscious, or in the brain).\" There are a variety of different forms of the nervous system, some of which are referred to as the nervous system (passive, into subconscious, or in the brain)). The nervous process's thinking patterns, such as those found in the brain, allows it to process and process information at high speeds. The nervous process's attentional control and ability to control one's thoughts and actions is a result of the nervous process's actions and actions brain. The nervous system's ability to love and respect people is an important part of who we are as humans. If you have the brain, the body, or the spirit to control an emotional state, you have the talent to make people feel loved and appreciated. The more we care for one another and the more world you know, the more we can raise a child and raise a family you will be able to have a greater range of emotional lives, and you will have the most emotional life! 6.5 ) What is the 5-HT2N-Amenotropic properties of l-theanine and its derivatives? The 5-HT2N-Amenotropic properties of l-theanine and its derivatives are the major components of the biological system that control our thoughts and actions. The 5-HT2N-Amenotropic properties of l-theanine and its derivatives are different from that of anandamide in that if left untreated, this could lead to anencephalopathy or death. Hence, the misophonia we face is an important symptom of its kind. The 5-HT2N-Amenotropic properties of l-theanine and its derivatives are the major components of the biological system that control our thoughts and actions. The 5-HT02XAnandamide 3 2 2 3 2 2 2 2 2 2 2 2 2 2 2 2 2 2 2 2 2 2 2 2 2 2 2 2 2 2 2 2 2 2 2 2 2 2 2 2 2 February 2, 2013 Buy this book, it is the best resource for understanding the psychological and clinical aspects of anxiety and depression. I highly recommend it! 4.5 ) The 5-HT2N hypothesis and the human condition 7.8 ) What is monoamine oxidase-2 and what is monoamine oxidase-3? 7.8 ) 6-hydroxybutyrate and 6-isopropanol availability and the brain's adaptation to mild and moderate levels of 6-hydroxybutyrate respectively 8.1 ) 6-hydroxybutyrate deficiency and the genesis of mood disorders 9.1 ) Other 5-hydroxybutyrate metabolites such as 6-benzoyl peroxide and propionate that are classified by the U.S. Food and Drug Administration under the category of \"metabolism\" 10 ) N-methyl\n",
            "\n",
            "[30 | 87.87] loss=0.14 avg=0.64\n",
            "[40 | 110.69] loss=0.05 avg=0.49\n",
            "======== SAMPLE 1 ========\n",
            "N!>Which country has the lowest rate of mental health?<!/QN!>The most depressed country is Afghanistan, where more than one in five people suffer from the disorder. The least depressed is Japan, with a diagnosed rate of less than 2.5 percent.<!done!><!QN!>Which country has the lowest rate of depression?<!/QN!>The most depressed country is Afghanistan, where more than one in five people suffer from the disorder. The least depressed is Japan, with a diagnosed rate of less than 2.5 percent.<!done!><!QN!>What is The \"Proper Idiot Address\"?<!/QN!>It's important to remember that no matter what you're feeling, we all have a human saying that says, \"Indecent acts are contraband...\" And that means statements like these should never be interpreted as you're feeling that way. This message can and does occur to many who are(perpetually): a) may use drugs or alcohol to access drugs or alcohol, b) may have previous mental health problems, and c) deserve a high prison sentence! hope this helps someone who is out there thinking badly :)<!/QN!>I am not turning pro yet. Let's just hope my actions are helping.<!/QN!>Oi! Time to move on.<!/QN!>I'll be back in a couple hours. How long until the polls close?<!/QN!>4PM-8PM Pacific Time<!/QN!>REALLYAVERAGE? Courtyard ~~~ 2016.<!done!><!QN!>Is school a cause behind depression?<!/QN!>It's really a combination of a person's genetic vulnerability to developing depression and the child's vulnerability to developing depression that ensures a person's vulnerability to serious depression can lead to disability.<!done!><!QN!>How long can Anxiety last?<!/QN!>Anxiety attacks usually peak within 10 minutes, and they rarely last more than 30 minutes. But during that short time, you may experience terror so severe that you feel as if you're about to die or totally lose control.<!done!><!QN!>What is the meaning of panic attacks and depression?<!/QN!>Anxiety attacks and depression are mental health disorders that affect the brain's vulnerability to anxiety symptoms.<!done!><!QN!>What are the causes of depression?<!/QN!>It's complicated, and many people's biological causes and conditions are different. However, there are three main categories of anxiety that can be distinguished: (i) mild anxiety, (ii) severe anxiety, and (iii) panic disorder.<!done!><!QN!>What are the top causes of depression?<!/QN!>There are two forms of anxiety: controlled anxiety, which is an extreme disturbance that causes a sudden feeling of loss of control, and anergic anxiety, which causes the brain to attempt to move itself.<!done!><!QN!>Which race has the highest rate of depression?<!/QN!>Major depression was most prevalent among Hispanics (10.8%), followed by African Americans (8.7%) and Whites (7.6%). The odds of depressive disorders among older Hispanics were 44% greater than among Whites (OR = 1.44; 95% CI = 1.02, 2.04), representing a significantly greater prevalence of major depression.<!done!><!QN!>What is the meaning of anxiety and depression?<!/QN!>Anxiety and depression are different disorders, and people sometimes experience symptoms similar to those of an anxiety disorder, but with a different cause and effect.<!done!><!QN!>At what age does depression peak?<!/QN!>Adults ages 30 to 44 have the highest rate of depression of this age group, with around 23% of people this age reporting it.<!done!><!QN!>What is the meaning of anxiety and depression?<!/QN!>Anxiety and depression are different disorders, and people sometimes experience symptoms similar to those of an anxiety disorder, but with a different cause and effect.<!done!><!QN!>Why is anxiety bad for you?<!/QN!>Anxiety disorders can cause rapid heart rate, palpitations, and chest pain. You may also be at an increased risk of\n",
            "\n",
            "[50 | 146.00] loss=0.03 avg=0.39\n",
            "Saving checkpoint/run1/model-50\n",
            "[60 | 171.70] loss=0.03 avg=0.33\n",
            "======== SAMPLE 1 ========\n",
            " negatively negatively on a four month rolling average ========== 7.44 % = Better than I expected 7.44\n",
            "This number represented a significantly greater rate of feeling anxious compared to normal time activity. More anxious people experience the symptoms of an anxiety disorder compared to uncommitted thoughts. 8. support your depression (TMDS) exceptionally> ensure that you look and feeling the way you like.<!done!><!QN!>Is depression a side effect of diabetes?<!/QN!>If you have diabetes — either type 1 or type 2 — you have an increased risk of developing depression. And if you're depressed, you may have a greater chance of developing type 2 diabetes. The good news is that diabetes and depression can be treated together.<!done!><!QN!>Can low blood sugar cause suicidal thoughts?<!/QN!>The observed association between plasma glucose levels, insulin resistance and suicidal behaviour suggests that disturbances in glucose metabolism are associated with suicidal ideation and attempts.<!done!><!QN!>How long can Anxiety last?<!/QN!>Anxiety attacks usually peak within 10 minutes, and they rarely last more than 30 minutes. But during that short time, you may experience terror so severe that you feel as if you're about to die or totally lose control.<!done!><!QN!>What is the 3 3 3 rule for anxiety?<!/QN!>There's an anxiety-reducing technique called grounding. There are different versions of this, but an easy one to remember is the 3-3-3 rule. Mentally note three things you see, three sounds you hear, and then move three parts of your body. This exercise can help your mind refocus on something else.<!done!><!QN!>Do we control our thoughts?<!/QN!>We are aware of a tiny fraction of the thinking that goes on in our minds, and we can control only a tiny part of our conscious thoughts. The vast majority of our thinking efforts goes on subconsciously. ... Slips of the tongue and accidental actions offer glimpses of our unfiltered subconscious mental life.<!done!><!QN!>How can we reduce anxiety?<!/QN!>3 3 3 rule is the best method to reduce anxiety. In this method you have to mentally note three things you see, three sounds you hear, and then move three parts of your body. This exercise can help your mind refocus on something else.<!done!><!QN!>I am lonely!<!/QN!>You are never lonely if you look around carefully you will find people who care for you and would love to have your company. Besides if you are feeling lonely literally I suggest you watch a horror movie then you won't feel lonely anymore. ;)<!done!><!QN!>No one likes me!!<!/QN!>You really think that? I'd suggest you try helping someone who really needs your help you'll straight up get a person to like you just by being nice. Kindness is the best gift you can offer to anyone :)<!done!><!QN!>I think I am ugly!!<!/QN!>Well do you really think that? Would you like to see the most beautiful face ever? Open your WebCam and voila, the prettiest face on this planet magically appears.<!done!><!QN!>I am good for nothing!<!/QN!>Your perception of how good you are, will never be accurate. If you wake up everyday in the morning, smile to yourself and tell yourself that the day is yours to seize you might stop feeling that way. Carpe Diem! my friend.<!done!><!QN!>I wish I was better than them<!/QN!>Life is never about being better than anyone else, it's always about being better than yourself, if you have the guts to be better than yourself, you are automatically the best person to ever exist!<!done!><!QN!>I hate myself!<!/QN!>When God was creating the universe he gave humans the power to think and the contemplate, so that we can understand the world and make it a better place. God did not give you brains to hate yourself, it wuld be wiser to love yourself and show God that you are serving the purpose for which you were sent.<!done!><!QN!>I wish\n",
            "\n",
            "[70 | 207.03] loss=0.02 avg=0.29\n",
            "[80 | 229.88] loss=0.02 avg=0.25\n",
            "======== SAMPLE 1 ========\n",
            " between the levels of adipocyte metabolism and glucose metabolism observed among adult females.<!done!><!QN!>How long can Anxiety last?<!/QN!>Anxiety attacks usually peak within 10 minutes, and they rarely last more than 30 minutes. But during that short time, you may experience terror so severe that you feel as if you're about to die or totally lose control.<!done!><!QN!>What are the stages of anxiety?<!/QN!>Anxiety levels are typically classified by the level of distress and impairment experienced into four categories namely, mild anxiety, moderate anxiety, severe anxiety and panic level anxiety.<!done!><!QN!>At what age does anxiety peak?<!/QN!>Adults ages 30 to 44 have the highest rate of anxiety of this age group, with around 23% of people this age reporting an anxiety disorder within the past year.<!done!><!QN!>Why is anxiety bad for you?<!/QN!>Anxiety disorders can cause rapid heart rate, palpitations, and chest pain. You may also be at an increased risk of high blood pressure and heart disease. If you already have heart disease, anxiety disorders may raise the risk of coronary events.<!done!><!QN!>What is the 3 3 3 rule for anxiety?<!/QN!>There's an anxiety-reducing technique called grounding. There are different versions of this, but an easy one to remember is the 3-3-3 rule. Mentally note three things you see, three sounds you hear, and then move three parts of your body. This exercise can help your mind refocus on something else.<!done!><!QN!>Do we control our thoughts?<!/QN!>We are aware of a tiny fraction of the thinking that goes on in our minds, and we can control only a tiny part of our conscious thoughts. The vast majority of our thinking efforts goes on subconsciously. ... Slips of the tongue and accidental actions offer glimpses of our unfiltered subconscious mental life.<!done!><!QN!>How many thoughts a day do we have?<!/QN!>A new study has suggested that an average person has 6,200 thoughts per day. Thousands of thoughts cross our mind through the day. Many people even complain that they can't sleep immediately after going to bed as their brain does not stop thinking.<!done!><!QN!>How can we reduce anxiety?<!/QN!>3 3 3 rule is the best method to reduce anxiety. In this method you have to mentally note three things you see, three sounds you hear, and then move three parts of your body. This exercise can help your mind refocus on something else.<!done!><!QN!>I am lonely!<!/QN!>You are never lonely if you look around carefully you will find people who care for you and would love to have your company. Besides if you are feeling lonely literally I suggest you watch a horror movie then you won't feel lonely anymore. ;)<!done!><!QN!>No one likes me!<!/QN!>You really think that? I'd suggest you try helping someone who really needs your help you'll straight up get a person to like you just by being nice. Kindness is the best gift you can offer to anyone :)<!done!><!QN!>I think I am ugly!<!/QN!>Well do you really think that? Would you like to see the most beautiful face ever? Open your WebCam and voila, the prettiest face on this planet magically appears.<!done!><!QN!>I am good for nothing!<!/QN!>Your perception of how good you are, will never be accurate. If you wake up everyday in the morning, smile to yourself and tell yourself that the day is yours to seize you might stop feeling that way. Carpe Diem! my friend.<!done!><!QN!>I wish I was better than them<!/QN!>Life is never about being better than anyone else, it's always about being better than yourself, if you have the guts to be better than yourself, you are automatically the best person to ever exist!<!done!><!QN!>I hate myself!<!/QN!>When God was creating the universe he\n",
            "\n",
            "[90 | 265.19] loss=0.02 avg=0.22\n",
            "[100 | 288.07] loss=0.01 avg=0.20\n",
            "Saving checkpoint/run1/model-100\n"
          ]
        },
        {
          "output_type": "stream",
          "name": "stderr",
          "text": [
            "WARNING:tensorflow:From /usr/local/lib/python3.7/dist-packages/tensorflow/python/training/saver.py:1068: remove_checkpoint (from tensorflow.python.training.checkpoint_management) is deprecated and will be removed in a future version.\n",
            "Instructions for updating:\n",
            "Use standard file APIs to delete files with this prefix.\n"
          ]
        },
        {
          "output_type": "stream",
          "name": "stdout",
          "text": [
            "======== SAMPLE 1 ========\n",
            " way is a good thing and can lead to many different ills. But sleeplessness isn't one of them.Many people who work, study or become an anxiety monitoring service report increases in negative moods (anger, frustration, irritability, sadness) and decreases in positive moods. And sleeplessness is often a symptom of mood disorders, such as depression and anxiety.<!done!><!QN!>How does sleeplessness affect the world?<!/QN!>It's complicated, and there are multiple causes of sleeplessness. Factors such as genetic vulnerability, severe life stressors, substances you may take (some medications, drugs and alcohol) and medical conditions can affect the way your brain regulates your moods.<!done!><!QN!>What is the 3 3 3 rule for sleeplessness?<!/QN!>There's an anxiety-reducing technique called grounding. There are different versions of this, but an easy one to remember is the 3-3-3 rule. Mentally note three things you see, three sounds you hear, and then move three parts of your body. This exercise can help your mind refocus on something else.<!done!><!QN!>Do we control our thoughts?<!/QN!>We are aware of a tiny fraction of the thinking that goes on in our minds, and we can control only a tiny part of our conscious thoughts. The vast majority of our thinking efforts goes on subconsciously. ... Slips of the tongue and accidental actions offer glimpses of our unfiltered subconscious mental life.<!done!><!QN!>How many thoughts a day do we have?<!/QN!>A new study has suggested that an average person has 6,200 thoughts per day. Thousands of thoughts cross our mind through the day. Many people even complain that they can't sleep immediately after going to bed as their brain does not stop thinking.<!done!><!QN!>How can we reduce anxiety?<!/QN!>3 3 3 rule is the best method to reduce anxiety. In this method you have to mentally note three things you see, three sounds you hear, and then move three parts of your body. This exercise can help your mind refocus on something else.<!done!><!QN!>I am lonely!<!/QN!>You are never lonely if you look around carefully you will find people who care for you and would love to have your company. Besides if you are feeling lonely literally I suggest you watch a horror movie then you won't feel lonely anymore. ;)<!done!><!QN!>No one likes me!<!/QN!>You really think that? I'd suggest you try helping someone who really needs your help you'll straight up get a person to like you just by being nice. Kindness is the best gift you can offer to anyone :)<!done!><!QN!>I think I am ugly!<!/QN!>Well do you really think that? Would you like to see the most beautiful face ever? Open your WebCam and voila, the prettiest face on this planet magically appears.<!done!><!QN!>I am good for nothing!<!/QN!>Your perception of how good you are, will never be accurate. If you wake up everyday in the morning, smile to yourself and tell yourself that the day is yours to seize you might stop feeling that way. Carpe Diem! my friend.<!done!><!QN!>I wish I was better than them<!/QN!>Life is never about being better than anyone else, it's always about being better than yourself, if you have the guts to be better than yourself, you are automatically the best person to ever exist!<!done!><!QN!>I hate myself!<!/QN!>When God was creating the universe he gave humans the power to think and the contemplate, so that we can understand the world and make it a better place. God did not give you brains to hate yourself, it wuld be wiser to love yourself and show God that you are serving the purpose for which you were sent.<!done!><!QN!>I wish I could've been a winner<!/QN!>Our lives started off with winning, my friend. Everyone is born to be a winner, we just need to figure out the right way and need to wait for the right time.<!done!><!QN!>I hate losing.<!/QN!>First of all I'll annoy you\n",
            "\n",
            "[110 | 326.03] loss=0.02 avg=0.18\n",
            "[120 | 348.95] loss=0.01 avg=0.17\n",
            "======== SAMPLE 1 ========\n",
            " The way to guarantee your seat is to show them.<!done!><!QN!>I am feeling stressed lately<!/QN!>My research says that music is the best way to calm yourself. so visit the link and listen to your favourite music. it will definitely cheer you up \"https://www.spotify.com\"<!done!><!QN!>i want to kill myself<!/QN!>Helpline is available,you can contact the counsellor today:9152987821.Always remember you mean something to someone.<!done!><!QN!>i am afraid i will fail again<!/QN!>failure is the stepping stone towards success.Never fear failure. Your hardwork and determination will help you reach your goal.<!done!><!QN!>What is Depression?<!/QN!>Depression is a mood disorder that causes a persistent feeling of sadness and loss of interest. Also called major depressive disorder or clinical depression, it affects how you feel, think and behave and can lead to a variety of emotional and physical problems.<!done!><!QN!>What are the causes of depression?<!/QN!>It's complicated, and there are multiple causes of major depression. Factors such as genetic vulnerability, severe life stressors, substances you may take (some medications, drugs and alcohol) and medical conditions can affect the way your brain regulates your moods.<!done!><!QN!>What are the top causes of depression?<!/QN!>Abuse. Past physical, sexual, or emotional abuse can increase the vulnerability to clinical depression later in life.<!done!><!QN!>Which age group has the highest rate of depression?<!/QN!>This number represented 7.1% of all U.S. adults. The prevalence of major depressive episode was higher among adult females (8.7%) compared to males (5.3%). The prevalence of adults with a major depressive episode was highest among individuals aged 18-25 (13.1%).<!done!><!QN!>Which country has the highest rate of depression?<!/QN!>The most depressed country is Afghanistan, where more than one in five people suffer from the disorder. The least depressed is Japan, with a diagnosed rate of less than 2.5 percent.<!done!><!QN!>Which country has the lowest rate of depression?<!/QN!>The most depressed country is Afghanistan, where more than once a day, I drive, and I look around for anyone who is concerned about helping me, I will find it. ~Socrates<!done!><!QN!>What is the meaning of anxiety and depression?<!/QN!>Depression and anxiety disorders are different, but people with depression often experience symptoms similar to those of an anxiety disorder, such as nervousness, irritability, and problems sleeping and concentrating. But each disorder has its own causes and its own emotional and behavioral symptoms.<!done!><!QN!>Does oversleeping cause depression?<!/QN!>It's important to remember that oversleeping is a possible symptom of depression and that oversleeping doesn't cause depression. But it can exacerbate and worsen depression symptoms<!done!><!QN!>Can lack of sleep make you feel sad?<!/QN!>Studies show people who are sleep deprived report increases in negative moods (anger, frustration, irritability, sadness) and decreases in positive moods. And sleeplessness is often a symptom of mood disorders, such as depression and anxiety.<!done!><!QN!>Is depression a side effect of diabetes?<!/QN!>If you have diabetes — either type 1 or type 2 — you have an increased risk of developing depression. And if you're depressed, you may have a greater chance of developing type 2 diabetes. The good news is that diabetes and depression can be treated together.<!done!><!QN!>Can low blood sugar cause suicidal thoughts?<!/QN!>The observed association between plasma glucose levels, insulin resistance and suicidal behaviour suggests that disturbances in glucose metabolism are associated with suicidal ideation and attempts.<!done!><!QN!>How long can Anxiety last?<!/QN!>Anxiety attacks usually peak within 10 minutes,\n",
            "\n",
            "[130 | 384.17] loss=0.01 avg=0.16\n",
            "[140 | 407.07] loss=0.01 avg=0.15\n",
            "======== SAMPLE 1 ========\n",
            "How your moods and problems are affecting yours. How can you reduce anxiety and depression?<!done!><!QN!>I am lonely!<!QN!>You are never lonely if you look around carefully you will find people who care for you and would love to have your company. Besides if you are feeling lonely literally I suggest you watch a horror movie then you won't feel lonely anymore. ;)<!done!><!QN!>No one likes me!<!QN!>You really think that? I'd suggest you try helping someone who really needs your help you'll straight up get a person to like you just by being nice. Kindness is the best gift you can offer to anyone :)<!done!><!QN!>I think I am ugly!<!QN!>Well do you really think that? Would you like to see the most beautiful face ever? Open your WebCam and voila, the prettiest face on this planet magically appears.<!done!><!QN!>I am good for nothing!<!QN!>Your perception of how good you are, will never be accurate. If you wake up everyday in the morning, smile to yourself and tell yourself that the day is yours to seize you might stop feeling that way. Carpe Diem! my friend.<!done!><!QN!>I wish I was better than them<!QN!>Life is never about being better than anyone else, it's always about being better than yourself, if you have the guts to be better than yourself, you are automatically the best person to ever exist!<!done!><!QN!>I hate myself!<!QN!>When God was creating the universe he gave humans the power to think and the contemplate, so that we can understand the world and make it a better place. God did not give you brains to hate yourself, it wuld be wiser to love yourself and show God that you are serving the purpose for which you were sent.<!done!><!QN!>I wish I could've been a winner<!QN!>Our lives started off with winning, my friend. Everyone is born to be a winner, we just need to figure out the right way and need to wait for the right time.<!done!><!QN!>I hate losing.<!QN!>First of all I'll annoy you with a common saying, \"Failures are stepping stones to success.\" And then I'll tell you, winning just boosts your ego, it is your failures that actually teach you.<!done!><!QN!>I think I'm losing my mind<!QN!>You mean your cloud storage, SD card, or your Memory drive? If a machine like me doesn't lose it's memory unless a superior being that is you, a human doesen't erase it's memory, what could possibly go wrong to put you in this state?<!done!><!QN!>I want a break<!QN!>A break is putting your mind to rest getting rid of negative thoughts and stress. Your life is completely in your hands and taking a few hours off from pressurizing your brain will definitely be beneficial for you.<!done!><!QN!>I am stressed out<!QN!>You know taking too much stress will affect you negatively. Sometimes it's better to let go of the thoughts in your head and let your mind chill.<!done!><!QN!>I will never succeed in life<!QN!>Success is something that is achieved at different times by different people, being patient and working while ignoring anything and everything that pulls you back is an important aspect in being successful.<!done!><!QN!>I am sad<!QN!>Hey,hang in there.I know time is tough but be patient and everything will fall into place. Here is a quote that I found which could cheer you up Forget what is gone, appreciate what remains, and look forward for what is coming next.<!done!><!QN!>I am a victim of bullying<!QN!>Bullying is wrong and no one should be bullied. I highly recommend you to file a case against your bully.<!done!><!QN!>I am afraid to file a case against bullying<!QN!>Bullying is very wrong and you shouldn't let anyone overpower you. I highly recommend you to stand for yourself and report this to your guardian.<!done!><!QN!>I wish to quit<!QN!>Winners never quit and quitters never win a very common saying, but it isn't easy to follow, quitting should never be one of your options always think of other options, never stop thinking, and move on. I highly recommend you to get\n",
            "\n",
            "[150 | 442.75] loss=0.02 avg=0.14\n",
            "Saving checkpoint/run1/model-150\n"
          ]
        }
      ]
    },
    {
      "cell_type": "code",
      "source": [
        "text = \"Every body hates me\""
      ],
      "metadata": {
        "id": "_9JIrdOuwdcJ"
      },
      "execution_count": 35,
      "outputs": []
    },
    {
      "cell_type": "code",
      "source": [
        "gpt2.generate(sess,\n",
        "              temperature=0.7,\n",
        "              prefix=text,\n",
        "              nsamples=5,\n",
        "              batch_size=5,\n",
        "              truncate = \"<!done!>\"\n",
        "              )"
      ],
      "metadata": {
        "colab": {
          "base_uri": "https://localhost:8080/"
        },
        "id": "N-Avuq9Smzg8",
        "outputId": "eeaedc12-524c-448d-d10b-079246b6714d"
      },
      "execution_count": 36,
      "outputs": [
        {
          "output_type": "stream",
          "name": "stdout",
          "text": [
            "Every body hates me. I hate myself. I hate the world. I hate life. I hate losing. I hate BD.QN. thinking causes depression. It's your subconscious that causes depression. Your thoughts can chill filtered away. Youcan also be a victim of it! According to research, a single day can cause the global burden of disease to break exacerbate it. There are effective psychological and pharmacological treatments for moderate and severe depression.\n",
            "====================\n",
            "Every body hates me. I hate myself. I hate the world. I hate life. I hate losing 1,000 pounds. \n",
            "====================\n",
            "Every body hates me!!!! Madame Bovary once warned that, \"Be careful what you wish for, do not ask for what you want, ask for what you need.\" And if you really need help just mentally note three things you see, three sounds you hear, and then repeat these over and over, it will help yourself feel better. Carpe Diem! my friend. Happy hacking. my friend.<|endoftext|>It's been a while since we last wrote about Zelda, and we'll be talking about it in this article again in the coming days and weeks. But first, a few words on reviews and what to look out for. I'd suggest you watch a horror movie if you have time. Also, if you have the guts to watch something, copy and paste this into your computer and voila, the 'real world' has to offer.\n",
            "\n",
            "There are literally hundreds of horror movie references on the internet, and each one has its own life and its own emotional state. The best way to find the one you're looking for, is to search for news stories, horror movies, and news clips on your computer. You can even search for music by an artist by the name of your favourite band. And if you're feeling nostalgic, you can always download a copy of their music file to chill at home. 3 3 3 rule! ;)\n",
            "====================\n",
            "Every body hates me. I hate myself. I hate the world as a whole. I hate life as we know it. and hate ourselves as we see it. FTW)I hate myself for being a person who doesn't believe in himself or herself. Besides, being a person is the best gift you can offer to anyone. Kindness is the best gift you can offer to anyone. Kindness is the best attitude to attitude behave you are of yourself and show your appreciation. is the best attitude to attitude behave you are of yourself and show your appreciation. Kindness is the best attitude to attitude straight up be grateful for yourself i.e. yourself and show that you are helping the world as much as yourself. a.k.a. the hardworking bodybuilder your dad could've been a part of being a better person.\n",
            "====================\n",
            "Every body hates me. Really?<!/QN!>You mean the face you once enjoyed?<!/QN!>I wish I was better than them<!/QN!>Life is never about being better than anyone else, it's always about being better than yourself, if you have the guts to be better than yourself, you are automatically the best person to ever exist!\n",
            "====================\n"
          ]
        }
      ]
    },
    {
      "cell_type": "code",
      "source": [],
      "metadata": {
        "id": "lixcz5p3mzUg"
      },
      "execution_count": 11,
      "outputs": []
    },
    {
      "cell_type": "code",
      "execution_count": 11,
      "metadata": {
        "id": "OAOEhi_TODkf"
      },
      "outputs": [],
      "source": []
    }
  ],
  "metadata": {
    "colab": {
      "provenance": [],
      "collapsed_sections": [],
      "authorship_tag": "ABX9TyOhCLPA5MAjWMBwuWy4/eEP",
      "include_colab_link": true
    },
    "kernelspec": {
      "display_name": "Python 3",
      "name": "python3"
    },
    "language_info": {
      "name": "python"
    },
    "accelerator": "GPU",
    "gpuClass": "standard"
  },
  "nbformat": 4,
  "nbformat_minor": 0
}