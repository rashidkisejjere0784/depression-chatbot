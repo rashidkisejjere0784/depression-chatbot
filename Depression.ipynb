{
  "nbformat": 4,
  "nbformat_minor": 0,
  "metadata": {
    "colab": {
      "provenance": [],
      "authorship_tag": "ABX9TyOGG8aIh+XefICF1jl76TBN",
      "include_colab_link": true
    },
    "kernelspec": {
      "name": "python3",
      "display_name": "Python 3"
    },
    "language_info": {
      "name": "python"
    }
  },
  "cells": [
    {
      "cell_type": "markdown",
      "metadata": {
        "id": "view-in-github",
        "colab_type": "text"
      },
      "source": [
        "<a href=\"https://colab.research.google.com/github/rashidkisejjere0784/depression-chatbot/blob/main/Depression.ipynb\" target=\"_parent\"><img src=\"https://colab.research.google.com/assets/colab-badge.svg\" alt=\"Open In Colab\"/></a>"
      ]
    },
    {
      "cell_type": "code",
      "execution_count": 1,
      "metadata": {
        "colab": {
          "base_uri": "https://localhost:8080/"
        },
        "id": "3qiCEHTHJX7x",
        "outputId": "3bf37476-0274-4a91-a7d3-daf356eee28a"
      },
      "outputs": [
        {
          "output_type": "stream",
          "name": "stdout",
          "text": [
            "Looking in indexes: https://pypi.org/simple, https://us-python.pkg.dev/colab-wheels/public/simple/\n",
            "Requirement already satisfied: pyyaml in /usr/local/lib/python3.7/dist-packages (6.0)\n"
          ]
        }
      ],
      "source": [
        "!pip install pyyaml"
      ]
    },
    {
      "cell_type": "code",
      "source": [
        "file = open(\"depression.yml\", \"r\")"
      ],
      "metadata": {
        "id": "AqD1t49jJwsy"
      },
      "execution_count": 2,
      "outputs": []
    },
    {
      "cell_type": "code",
      "source": [
        "import yaml"
      ],
      "metadata": {
        "id": "8b6YbyfqJwqa"
      },
      "execution_count": 3,
      "outputs": []
    },
    {
      "cell_type": "code",
      "source": [
        "text = yaml.load(file, Loader = yaml.FullLoader)"
      ],
      "metadata": {
        "id": "QD7prAL-Jwnh"
      },
      "execution_count": 4,
      "outputs": []
    },
    {
      "cell_type": "code",
      "source": [
        "for item, doc in text.items():\n",
        "  print(item, doc)"
      ],
      "metadata": {
        "colab": {
          "base_uri": "https://localhost:8080/"
        },
        "id": "4rUCFLemKL8u",
        "outputId": "8808030c-075f-4bcc-f60c-b55dc1c39154"
      },
      "execution_count": 5,
      "outputs": [
        {
          "output_type": "stream",
          "name": "stdout",
          "text": [
            "categories ['depression']\n",
            "conversations [['What Is Depression?', 'Depression is a common and serious medical illness that negatively affects how you feel, the way you think and how you act.', 'Fortunately,it is also treatable.', 'Depression causes feelings of sadness and/or a loss of interest in activities you once enjoyed. It can lead to a variety of emotional and physical problems and can decrease your ability to function at work and at home.'], ['I feel i have let my parents down', 'No matter what,your parents will always be proud of you and will love you.', 'You will feel much better if you share your feelings with them.'], ['What are the types of depression?', 'There are many different forms of depression but most common types are.', 'Clinical depression,persistent depressive disorder,bipolar disorder,postnatal disorder.'], ['I am good for nothing.', \"Don't ever think you cannot achieve what you want.\", 'You are capable of reaching your goals.Here is a quote for you Everything you can imagine is real.'], ['I am feeling stressed lately', 'My research says that music is the best way to calm yourself.', 'so visit the link and listen to your favourite music.', 'it will definitely cheer you up \"https://www.spotify.com\"'], ['i want to kill myself', 'Helpline is available,you can contact the counsellor today:9152987821.Always remember you mean something to someone.'], ['i am afraid i will fail again', 'failure is the stepping stone towards success.Never fear failure.', 'Your hardwork and determination will help you reach your goal.'], ['What is Depression?', 'Depression\\xa0is a mood disorder that causes a persistent feeling of sadness and loss of interest. Also called major\\xa0depressive\\xa0disorder or clinical\\xa0depression, it affects how you feel, think and behave and can lead to a variety of emotional and physical problems.'], ['What are the causes of depression?', \"It's complicated, and there are multiple\\xa0causes\\xa0of major\\xa0depression. Factors such as genetic vulnerability, severe life stressors, substances you may take (some medications, drugs and alcohol) and medical conditions can affect the way your brain regulates your moods.\"], ['What are the top causes of depression?', 'Abuse. Past physical, sexual, or emotional abuse can increase the vulnerability to clinical\\xa0depression\\xa0later in life.'], ['Which age group has the highest rate of depression?', 'This number represented 7.1% of all U.S. adults. The\\xa0prevalence\\xa0of major\\xa0depressive\\xa0episode was higher among adult females (8.7%) compared to males (5.3%). The\\xa0prevalence\\xa0of adults\\xa0with\\xa0a major\\xa0depressive\\xa0episode was\\xa0highest\\xa0among individuals aged 18-25 (13.1%).'], ['Which country has the highest rate of depression?', 'The most depressed country is Afghanistan, where more than one in five people suffer from the disorder. The least depressed is\\xa0Japan, with a diagnosed rate of less than 2.5 percent.'], ['Which country has the lowest rate of depression?', 'The most depressed country is Afghanistan, where more than one in five people suffer from the disorder. The least depressed is\\xa0Japan, with a diagnosed rate of less than 2.5 percent.'], ['Is school a cause of depression?', 'Not only\\xa0does school\\xa0sometimes contribute to\\xa0depression,\\xa0depression\\xa0can also interfere with\\xa0school. Moreover, research shows that 75 percent of all mental health conditions begin by age 24. Hence, the college years are a critical time for understanding and talking about teen mental health.'], ['What is the biological cause of depression?', \"There is no single\\xa0cause\\xa0for\\xa0depression; rather it's a combination of stress and a person's vulnerability to developing\\xa0depression. The predisposition to developing\\xa0depression\\xa0can be inherited. Other\\xa0biological causes\\xa0for\\xa0depression\\xa0can include physical illness, the process of ageing and gender.\"], ['How does depression affect the world?', 'Depression\\xa0is a leading\\xa0cause\\xa0of disability worldwide and is a major contributor to the overall\\xa0global\\xa0burden of disease. More women are affected by\\xa0depression\\xa0than men.\\xa0Depression\\xa0can lead to suicide. There are effective psychological and pharmacological treatments for moderate and severe\\xa0depression.'], ['Which race has the highest rate of depression?', 'Major depression was most prevalent among\\xa0Hispanics\\xa0(10.8%), followed by\\xa0African Americans\\xa0(8.9%) and\\xa0Whites\\xa0(7.8%). The odds of depressive disorders among older\\xa0Hispanics\\xa0were 44% greater than among\\xa0Whites\\xa0(OR = 1.44; 95% CI = 1.02, 2.04), representing a significantly greater prevalence of major depression.'], ['What is the meaning of anxiety and depression?', 'Depression\\xa0and\\xa0anxiety\\xa0disorders are different, but people with\\xa0depression\\xa0often experience symptoms similar to those of an\\xa0anxiety\\xa0disorder, such as nervousness, irritability, and problems sleeping and concentrating. But each disorder has its own causes and its own emotional and behavioral symptoms.'], ['Does oversleeping cause depression?', \"It's important to remember that\\xa0oversleeping\\xa0is a possible symptom of\\xa0depression\\xa0and that\\xa0oversleeping\\xa0doesn't\\xa0cause depression. But it\\xa0can\\xa0exacerbate and worsen\\xa0depression symptoms\"], ['Can lack of sleep make you feel sad?', 'Studies show\\xa0people\\xa0who are\\xa0sleep\\xa0deprived report increases in negative moods (anger, frustration, irritability,\\xa0sadness) and decreases in positive moods. And sleeplessness is often a symptom of mood disorders, such as depression and anxiety.'], ['Is depression a side effect of diabetes?', \"If you have\\xa0diabetes\\xa0— either type 1 or type 2 — you have an increased risk of developing\\xa0depression. And if you're\\xa0depressed, you may have a greater chance of developing type 2\\xa0diabetes. The good news is that\\xa0diabetes\\xa0and\\xa0depression\\xa0can be treated together.\"], ['Can low blood sugar cause suicidal thoughts?', 'The observed association between plasma\\xa0glucose levels, insulin resistance\\xa0and suicidal\\xa0behaviour suggests that disturbances in\\xa0glucose\\xa0metabolism are associated with\\xa0suicidal ideation and\\xa0attempts.'], ['How long can Anxiety last?', \"Anxiety attacks\\xa0usually peak within\\xa010 minutes, and they rarely last more than\\xa030 minutes. But during that short time, you may experience terror so severe that you feel as if you're about to die or totally lose control.\"], ['What are the stages of anxiety?', 'Anxiety levels\\xa0are typically classified by the level of distress and impairment experienced into four categories namely, mild\\xa0anxiety, moderate\\xa0anxiety, severe\\xa0anxiety\\xa0and panic level\\xa0anxiety.'], ['At what age does anxiety peak?', 'Adults\\xa0ages\\xa030 to 44 have the highest rate of\\xa0anxiety\\xa0of this\\xa0age\\xa0group, with around 23% of people this\\xa0age\\xa0reporting an\\xa0anxiety\\xa0disorder within the past year.'], ['Why is anxiety bad for you?', 'Anxiety\\xa0disorders can cause rapid heart rate, palpitations, and chest pain.\\xa0You\\xa0may also be at an increased risk of high blood pressure and heart disease. If\\xa0you\\xa0already have heart disease,\\xa0anxiety\\xa0disorders may raise the risk of coronary events.'], ['What is the 3 3 3 rule for anxiety?', \"There's an\\xa0anxiety-reducing technique called grounding. There are different versions of this, but an easy one to remember is the\\xa03-3-3 rule. Mentally note\\xa0three\\xa0things you see,\\xa0three\\xa0sounds you hear, and then move\\xa0three\\xa0parts of your body. This exercise can help your mind refocus on something else.\"], ['Do we control our thoughts?', 'We\\xa0are aware of a tiny fraction of the\\xa0thinking\\xa0that goes on in\\xa0our minds, and\\xa0we can control\\xa0only a tiny part of\\xa0our\\xa0conscious\\xa0thoughts. The vast majority of\\xa0our thinking\\xa0efforts goes on subconsciously. ... Slips of the tongue and accidental actions offer glimpses of\\xa0our\\xa0unfiltered subconscious mental life.'], ['How many thoughts a day do we have?', \"A new study has suggested that an average person has 6,200\\xa0thoughts\\xa0per\\xa0day. Thousands of\\xa0thoughts\\xa0cross our mind through the\\xa0day.\\xa0Many\\xa0people even complain that they can't sleep immediately after going to bed as their brain\\xa0does\\xa0not stop thinking.\"], ['How can we reduce anxiety?', '3 3 3 rule is the best method to reduce anxiety.', 'In this method you have to mentally note\\xa0three\\xa0things you see,\\xa0three\\xa0sounds you hear, and then move\\xa0three\\xa0parts of your body. This exercise can help your mind refocus on something else.'], ['I am lonely!', \"You are never lonely if you look around carefully you will find people who care for you and would love to have your company. Besides if you are feeling lonely literally I suggest you watch a horror movie then you won't feel lonely anymore. ;)\"], ['No one likes me!', \"You really think that? I'd suggest you try helping someone who really needs your help you'll straight up get a person to like you just by being nice. Kindness is the best gift you can offer to anyone :)\"], ['I think I am ugly!', 'Well do you really think that? Would you like to see the most beautiful face ever? Open your WebCam and voila, the prettiest face on this planet magically appears.'], ['I am good for nothing!', 'Your perception of how good you are, will never be accurate. If you wake up everyday in the morning, smile to yourself and tell yourself that the day is yours to seize you might stop feeling that way. Carpe Diem! my friend.'], ['I wish I was better than them', \"Life is never about being better than anyone else, it's always about being better than yourself, if you have the guts to be better than yourself, you are automatically the best person to ever exist!\"], ['I hate myself!', 'When God was creating the universe he gave humans the power to think and the contemplate, so that we can understand the world and make it a better place. God did not give you brains to hate yourself, it wuld be wiser to love yourself and show God that you are serving the purpose for which you were sent.'], [\"I wish I could've been a winner\", 'Our lives started off with winning, my friend. Everyone is born to be a winner, we just need to figure out the right way and need to wait for the right time.'], ['I hate losing.', 'First of all I\\'ll annoy you with a common saying, \"Failures are stepping stones to success.\" And then I\\'ll tell you, winning just boosts your ego, it is your failures that actually teach you.'], [\"I think I'm losing my mind\", \"You mean your cloud storage, SD card, or your Memory drive? If a machine like me doesn't lose it's memory unless a superior being that is you, a human doesen't erase it's memory, what could possibly go wrong to put you in this state?\"], ['I want a break', 'A break is putting your mind to rest getting rid of negative thoughts and stress. Your life is completely in your hands and taking a few hours off from pressurizing your brain will definitely be beneficial for you.'], ['I am stressed out', \"You know taking too much stress will affect you negatively. Sometimes it's better to let go of the thoughts in your head and let your mind chill.\"], ['I will never succeed in life', 'Success is something that is achieved at different times by different people, being patient and working while ignoring anything and everything that pulls you back is an important aspect in being successful.'], ['I am sad', 'Hey,hang in there.I know time is tough but be patient and everything will fall into place.', 'Here is a quote that I found which could cheer you up Forget what is gone, appreciate what remains, and look forward for what is coming next.'], ['I am a victim of bullying', 'Bullying is wrong and no one should be bullied.', 'I highly recommend you to file a case against your bully.'], ['I am afraid to file a case against bullying', \"Bullying is very wrong and you shouldn't let anyone overpower you.\", 'I highly recommend you to stand for yourself and report this to your guardian.'], ['I wish to quit', \"Winners never quit and quitters never win a very common saying, but it isn't easy to follow, quitting should never be one of your options always think of ways to fight life back and to emerge out stronger than ever.\"], ['I want to leave the cou ntry and run away', 'Why do you want to spend so much on this thought, I think it would be better to go on a vacation in your beautiful country and visit some amazing places that you are yet to visit.'], ['I let everyojokne down', 'If you are the one who let them down you were the one who raised there hopes in the first place.', 'If you have done it once I can guarantee you can do it over and over again.'], [\"I can't do this anymore\", \"If you are really that exhausted you definitely need a break, and taking a teeny tiny break isn't very harmful, take some time off let your mind be at peace and get back to work with all the enrgy and enthusiasm that you have.\"], ['My time has come', 'Yeahh!! The time has come for you to show the world that you are the greatest person alive, and no one else can be as good as you are.'], ['I am feeling anxious lately.', 'I have heard that 3 3 3 rule is the best method to reduce anxiety.', 'In this method you have to mentally note\\xa0three\\xa0things you see,\\xa0three\\xa0sounds you hear, and then move\\xa0three\\xa0parts of your body.', 'This exercise can help your mind refocus on something else.', 'Give this method a try I am sure it will help you']]\n"
          ]
        }
      ]
    },
    {
      "cell_type": "code",
      "source": [
        "data = text[\"conversations\"]"
      ],
      "metadata": {
        "id": "PgQIUIPqKL5d"
      },
      "execution_count": 6,
      "outputs": []
    },
    {
      "cell_type": "code",
      "source": [
        "import tensorflow as tf"
      ],
      "metadata": {
        "id": "OuWRLcKhKL2F"
      },
      "execution_count": 7,
      "outputs": []
    },
    {
      "cell_type": "code",
      "source": [
        "tokenizer = tf.keras.preprocessing.text.Tokenizer(filters='!\"#$%&()*+,-./:;<=>?@[\\\\]^_`{|}~\\t\\n',\n",
        "lower=True,\n",
        "split=\" \",\n",
        "char_level=False,\n",
        "oov_token=None,\n",
        "document_count=0)\n"
      ],
      "metadata": {
        "id": "Q2EWlSemLDt2"
      },
      "execution_count": 8,
      "outputs": []
    },
    {
      "cell_type": "code",
      "source": [
        "Xtrain = []\n",
        "ytrain = []\n",
        "\n",
        "for row in data:\n",
        "  Xtrain.append(row[0])\n",
        "  ytrain.append(\", \" .join(row[1:]))"
      ],
      "metadata": {
        "id": "Iqwr2rJ_LDrX"
      },
      "execution_count": 62,
      "outputs": []
    },
    {
      "cell_type": "code",
      "source": [
        "ytrain[10]"
      ],
      "metadata": {
        "colab": {
          "base_uri": "https://localhost:8080/",
          "height": 72
        },
        "id": "fi1b4LyHLDm9",
        "outputId": "2ee4045b-d280-417b-816a-826c66e9c695"
      },
      "execution_count": 11,
      "outputs": [
        {
          "output_type": "execute_result",
          "data": {
            "text/plain": [
              "'This number represented 7.1% of all U.S. adults. The\\xa0prevalence\\xa0of major\\xa0depressive\\xa0episode was higher among adult females (8.7%) compared to males (5.3%). The\\xa0prevalence\\xa0of adults\\xa0with\\xa0a major\\xa0depressive\\xa0episode was\\xa0highest\\xa0among individuals aged 18-25 (13.1%).'"
            ],
            "application/vnd.google.colaboratory.intrinsic+json": {
              "type": "string"
            }
          },
          "metadata": {},
          "execution_count": 11
        }
      ]
    },
    {
      "cell_type": "code",
      "source": [
        "Xtrain"
      ],
      "metadata": {
        "colab": {
          "base_uri": "https://localhost:8080/"
        },
        "id": "In6PEjH3LDjh",
        "outputId": "e29520d7-c8f3-4cb6-e68f-3919fd877378"
      },
      "execution_count": null,
      "outputs": [
        {
          "output_type": "execute_result",
          "data": {
            "text/plain": [
              "['What Is Depression?',\n",
              " 'I feel i have let my parents down',\n",
              " 'What are the types of depression?',\n",
              " 'I am good for nothing.',\n",
              " 'I am feeling stressed lately',\n",
              " 'i want to kill myself',\n",
              " 'i am afraid i will fail again',\n",
              " 'What is Depression?',\n",
              " 'What are the causes of depression?',\n",
              " 'What are the top causes of depression?',\n",
              " 'Which age group has the highest rate of depression?',\n",
              " 'Which country has the highest rate of depression?',\n",
              " 'Which country has the lowest rate of depression?',\n",
              " 'Is school a cause of depression?',\n",
              " 'What is the biological cause of depression?',\n",
              " 'How does depression affect the world?',\n",
              " 'Which race has the highest rate of depression?',\n",
              " 'What is the meaning of anxiety and depression?',\n",
              " 'Does oversleeping cause depression?',\n",
              " 'Can lack of sleep make you feel sad?',\n",
              " 'Is depression a side effect of diabetes?',\n",
              " 'Can low blood sugar cause suicidal thoughts?',\n",
              " 'How long can Anxiety last?',\n",
              " 'What are the stages of anxiety?',\n",
              " 'At what age does anxiety peak?',\n",
              " 'Why is anxiety bad for you?',\n",
              " 'What is the 3 3 3 rule for anxiety?',\n",
              " 'Do we control our thoughts?',\n",
              " 'How many thoughts a day do we have?',\n",
              " 'How can we reduce anxiety?',\n",
              " 'I am lonely!',\n",
              " 'No one likes me!',\n",
              " 'I think I am ugly!',\n",
              " 'I am good for nothing!',\n",
              " 'I wish I was better than them',\n",
              " 'I hate myself!',\n",
              " \"I wish I could've been a winner\",\n",
              " 'I hate losing.',\n",
              " \"I think I'm losing my mind\",\n",
              " 'I want a break',\n",
              " 'I am stressed out',\n",
              " 'I will never succeed in life',\n",
              " 'I am sad',\n",
              " 'I am a victim of bullying',\n",
              " 'I am afraid to file a case against bullying',\n",
              " 'I wish to quit',\n",
              " 'I want to leave the cou ntry and run away',\n",
              " 'I let everyojokne down',\n",
              " \"I can't do this anymore\",\n",
              " 'My time has come',\n",
              " 'I am feeling anxious lately.']"
            ]
          },
          "metadata": {},
          "execution_count": 37
        }
      ]
    },
    {
      "cell_type": "code",
      "source": [
        "tokenizer.fit_on_texts(Xtrain)"
      ],
      "metadata": {
        "id": "RseGl06ZLDhK"
      },
      "execution_count": 12,
      "outputs": []
    },
    {
      "cell_type": "code",
      "source": [
        "tokenizer.document_count"
      ],
      "metadata": {
        "colab": {
          "base_uri": "https://localhost:8080/"
        },
        "id": "yj5rnxbGNdxd",
        "outputId": "d80f2b84-1949-41c8-e5fb-a5f7084f94f9"
      },
      "execution_count": null,
      "outputs": [
        {
          "output_type": "execute_result",
          "data": {
            "text/plain": [
              "51"
            ]
          },
          "metadata": {},
          "execution_count": 11
        }
      ]
    },
    {
      "cell_type": "code",
      "source": [
        "classes = len(ytrain)"
      ],
      "metadata": {
        "id": "HpwnPsQBNdol"
      },
      "execution_count": null,
      "outputs": []
    },
    {
      "cell_type": "code",
      "source": [
        "import nltk"
      ],
      "metadata": {
        "id": "oXjl0WgwLDb9"
      },
      "execution_count": 13,
      "outputs": []
    },
    {
      "cell_type": "code",
      "source": [
        "from nltk.stem import WordNetLemmatizer"
      ],
      "metadata": {
        "id": "E5F3KLP1PSNA"
      },
      "execution_count": 14,
      "outputs": []
    },
    {
      "cell_type": "code",
      "source": [
        "lemmatizer = WordNetLemmatizer()"
      ],
      "metadata": {
        "id": "wTc_-dobPSKF"
      },
      "execution_count": 15,
      "outputs": []
    },
    {
      "cell_type": "code",
      "source": [
        "X = []"
      ],
      "metadata": {
        "id": "0Z_9jduLPSFT"
      },
      "execution_count": 16,
      "outputs": []
    },
    {
      "cell_type": "code",
      "source": [
        "nltk.download('omw-1.4')\n",
        "nltk.download(\"wordnet\")"
      ],
      "metadata": {
        "colab": {
          "base_uri": "https://localhost:8080/"
        },
        "id": "KcMHTjfdRjmO",
        "outputId": "bad0e601-3bdb-4c27-e5f5-d425bb57e119"
      },
      "execution_count": 17,
      "outputs": [
        {
          "output_type": "stream",
          "name": "stderr",
          "text": [
            "[nltk_data] Downloading package omw-1.4 to /root/nltk_data...\n",
            "[nltk_data] Downloading package wordnet to /root/nltk_data...\n"
          ]
        },
        {
          "output_type": "execute_result",
          "data": {
            "text/plain": [
              "True"
            ]
          },
          "metadata": {},
          "execution_count": 17
        }
      ]
    },
    {
      "cell_type": "code",
      "source": [
        "import re\n",
        "\n",
        "exp = '[!\\\"#$%&\\'()*+,-./:;<=>?@^_`{|}~]'"
      ],
      "metadata": {
        "id": "LuofKZDnS39z"
      },
      "execution_count": 18,
      "outputs": []
    },
    {
      "cell_type": "code",
      "source": [
        "X = []\n",
        "for sentence in Xtrain:\n",
        "  words = sentence.split()\n",
        "  row = []\n",
        "  for word in words:\n",
        "    word = re.sub(exp, \"\", word)\n",
        "    row.append(lemmatizer.lemmatize(word))\n",
        "\n",
        "  X.append(row)"
      ],
      "metadata": {
        "id": "eS2WfmF0PSC2"
      },
      "execution_count": 19,
      "outputs": []
    },
    {
      "cell_type": "code",
      "source": [
        "X"
      ],
      "metadata": {
        "colab": {
          "base_uri": "https://localhost:8080/"
        },
        "id": "bHZjVT2nPSAk",
        "outputId": "aebab2a8-76ce-4d79-80ec-465d75f0ab20"
      },
      "execution_count": null,
      "outputs": [
        {
          "output_type": "execute_result",
          "data": {
            "text/plain": [
              "[['What', 'Is', 'Depression'],\n",
              " ['I', 'feel', 'i', 'have', 'let', 'my', 'parent', 'down'],\n",
              " ['What', 'are', 'the', 'type', 'of', 'depression'],\n",
              " ['I', 'am', 'good', 'for', 'nothing'],\n",
              " ['I', 'am', 'feeling', 'stressed', 'lately'],\n",
              " ['i', 'want', 'to', 'kill', 'myself'],\n",
              " ['i', 'am', 'afraid', 'i', 'will', 'fail', 'again'],\n",
              " ['What', 'is', 'Depression'],\n",
              " ['What', 'are', 'the', 'cause', 'of', 'depression'],\n",
              " ['What', 'are', 'the', 'top', 'cause', 'of', 'depression'],\n",
              " ['Which', 'age', 'group', 'ha', 'the', 'highest', 'rate', 'of', 'depression'],\n",
              " ['Which', 'country', 'ha', 'the', 'highest', 'rate', 'of', 'depression'],\n",
              " ['Which', 'country', 'ha', 'the', 'lowest', 'rate', 'of', 'depression'],\n",
              " ['Is', 'school', 'a', 'cause', 'of', 'depression'],\n",
              " ['What', 'is', 'the', 'biological', 'cause', 'of', 'depression'],\n",
              " ['How', 'doe', 'depression', 'affect', 'the', 'world'],\n",
              " ['Which', 'race', 'ha', 'the', 'highest', 'rate', 'of', 'depression'],\n",
              " ['What', 'is', 'the', 'meaning', 'of', 'anxiety', 'and', 'depression'],\n",
              " ['Does', 'oversleeping', 'cause', 'depression'],\n",
              " ['Can', 'lack', 'of', 'sleep', 'make', 'you', 'feel', 'sad'],\n",
              " ['Is', 'depression', 'a', 'side', 'effect', 'of', 'diabetes'],\n",
              " ['Can', 'low', 'blood', 'sugar', 'cause', 'suicidal', 'thought'],\n",
              " ['How', 'long', 'can', 'Anxiety', 'last'],\n",
              " ['What', 'are', 'the', 'stage', 'of', 'anxiety'],\n",
              " ['At', 'what', 'age', 'doe', 'anxiety', 'peak'],\n",
              " ['Why', 'is', 'anxiety', 'bad', 'for', 'you'],\n",
              " ['What', 'is', 'the', '3', '3', '3', 'rule', 'for', 'anxiety'],\n",
              " ['Do', 'we', 'control', 'our', 'thought'],\n",
              " ['How', 'many', 'thought', 'a', 'day', 'do', 'we', 'have'],\n",
              " ['How', 'can', 'we', 'reduce', 'anxiety'],\n",
              " ['I', 'am', 'lonely'],\n",
              " ['No', 'one', 'like', 'me'],\n",
              " ['I', 'think', 'I', 'am', 'ugly'],\n",
              " ['I', 'am', 'good', 'for', 'nothing'],\n",
              " ['I', 'wish', 'I', 'wa', 'better', 'than', 'them'],\n",
              " ['I', 'hate', 'myself'],\n",
              " ['I', 'wish', 'I', 'couldve', 'been', 'a', 'winner'],\n",
              " ['I', 'hate', 'losing'],\n",
              " ['I', 'think', 'Im', 'losing', 'my', 'mind'],\n",
              " ['I', 'want', 'a', 'break'],\n",
              " ['I', 'am', 'stressed', 'out'],\n",
              " ['I', 'will', 'never', 'succeed', 'in', 'life'],\n",
              " ['I', 'am', 'sad'],\n",
              " ['I', 'am', 'a', 'victim', 'of', 'bullying'],\n",
              " ['I', 'am', 'afraid', 'to', 'file', 'a', 'case', 'against', 'bullying'],\n",
              " ['I', 'wish', 'to', 'quit'],\n",
              " ['I', 'want', 'to', 'leave', 'the', 'cou', 'ntry', 'and', 'run', 'away'],\n",
              " ['I', 'let', 'everyojokne', 'down'],\n",
              " ['I', 'cant', 'do', 'this', 'anymore'],\n",
              " ['My', 'time', 'ha', 'come'],\n",
              " ['I', 'am', 'feeling', 'anxious', 'lately']]"
            ]
          },
          "metadata": {},
          "execution_count": 35
        }
      ]
    },
    {
      "cell_type": "code",
      "source": [
        "model = tf.keras.models.load_model(\"depression.h5\")"
      ],
      "metadata": {
        "id": "BVNuCh4wPR-L"
      },
      "execution_count": 20,
      "outputs": []
    },
    {
      "cell_type": "code",
      "source": [],
      "metadata": {
        "id": "y829FFVQiCiY"
      },
      "execution_count": null,
      "outputs": []
    },
    {
      "cell_type": "code",
      "source": [],
      "metadata": {
        "id": "GOyJVExyiCKZ"
      },
      "execution_count": null,
      "outputs": []
    },
    {
      "cell_type": "code",
      "source": [],
      "metadata": {
        "id": "Q4ilP0wuiCDT"
      },
      "execution_count": null,
      "outputs": []
    },
    {
      "cell_type": "code",
      "source": [
        "import numpy as np"
      ],
      "metadata": {
        "id": "jTw2QwRCiB1f"
      },
      "execution_count": null,
      "outputs": []
    },
    {
      "cell_type": "code",
      "source": [
        "ytrain = np.zeros((len(Xtrain), len(Xtrain)))"
      ],
      "metadata": {
        "id": "vRZ3aWIiiBtg"
      },
      "execution_count": 57,
      "outputs": []
    },
    {
      "cell_type": "code",
      "source": [
        "ytrain.shape"
      ],
      "metadata": {
        "colab": {
          "base_uri": "https://localhost:8080/"
        },
        "id": "mQm9GfGjiBFx",
        "outputId": "677e3a65-18f1-4c6f-f3ac-f865f6786730"
      },
      "execution_count": null,
      "outputs": [
        {
          "output_type": "execute_result",
          "data": {
            "text/plain": [
              "(51, 51)"
            ]
          },
          "metadata": {},
          "execution_count": 46
        }
      ]
    },
    {
      "cell_type": "code",
      "source": [
        "for i in range(0,len(Xtrain),1):\n",
        "  ytrain[i,i] = 1"
      ],
      "metadata": {
        "id": "axxqwNsKiw34"
      },
      "execution_count": 58,
      "outputs": []
    },
    {
      "cell_type": "code",
      "source": [
        "ytrain[6]"
      ],
      "metadata": {
        "colab": {
          "base_uri": "https://localhost:8080/"
        },
        "id": "YyHePYKCivQY",
        "outputId": "374c0329-7b77-45ee-ce7c-131abaed10d5"
      },
      "execution_count": null,
      "outputs": [
        {
          "output_type": "execute_result",
          "data": {
            "text/plain": [
              "array([0., 0., 0., 0., 0., 0., 1., 0., 0., 0., 0., 0., 0., 0., 0., 0., 0.,\n",
              "       0., 0., 0., 0., 0., 0., 0., 0., 0., 0., 0., 0., 0., 0., 0., 0., 0.,\n",
              "       0., 0., 0., 0., 0., 0., 0., 0., 0., 0., 0., 0., 0., 0., 0., 0., 0.])"
            ]
          },
          "metadata": {},
          "execution_count": 52
        }
      ]
    },
    {
      "cell_type": "code",
      "source": [
        "tokenizer.fit_on_texts(X)"
      ],
      "metadata": {
        "id": "zZ8ICcQcivIX"
      },
      "execution_count": 21,
      "outputs": []
    },
    {
      "cell_type": "code",
      "source": [
        "tokenizer.word_docs"
      ],
      "metadata": {
        "colab": {
          "base_uri": "https://localhost:8080/"
        },
        "id": "ClV0dV9DivBb",
        "outputId": "361ace28-c556-4969-cc58-8b4d5cabad13"
      },
      "execution_count": 22,
      "outputs": [
        {
          "output_type": "execute_result",
          "data": {
            "text/plain": [
              "defaultdict(int,\n",
              "            {'what': 20,\n",
              "             'is': 16,\n",
              "             'depression': 30,\n",
              "             'down': 4,\n",
              "             'let': 4,\n",
              "             'feel': 4,\n",
              "             'i': 48,\n",
              "             'my': 6,\n",
              "             'parents': 1,\n",
              "             'have': 4,\n",
              "             'the': 26,\n",
              "             'are': 8,\n",
              "             'of': 28,\n",
              "             'types': 1,\n",
              "             'am': 22,\n",
              "             'good': 4,\n",
              "             'for': 8,\n",
              "             'nothing': 4,\n",
              "             'stressed': 4,\n",
              "             'lately': 4,\n",
              "             'feeling': 4,\n",
              "             'to': 8,\n",
              "             'want': 6,\n",
              "             'kill': 2,\n",
              "             'myself': 4,\n",
              "             'will': 4,\n",
              "             'again': 2,\n",
              "             'afraid': 4,\n",
              "             'fail': 2,\n",
              "             'causes': 2,\n",
              "             'top': 2,\n",
              "             'has': 5,\n",
              "             'age': 4,\n",
              "             'rate': 8,\n",
              "             'group': 2,\n",
              "             'highest': 6,\n",
              "             'which': 8,\n",
              "             'country': 4,\n",
              "             'lowest': 2,\n",
              "             'cause': 10,\n",
              "             'school': 2,\n",
              "             'a': 14,\n",
              "             'biological': 2,\n",
              "             'does': 4,\n",
              "             'world': 2,\n",
              "             'affect': 2,\n",
              "             'how': 8,\n",
              "             'race': 2,\n",
              "             'anxiety': 14,\n",
              "             'meaning': 2,\n",
              "             'and': 4,\n",
              "             'oversleeping': 2,\n",
              "             'sleep': 2,\n",
              "             'sad': 4,\n",
              "             'can': 8,\n",
              "             'you': 4,\n",
              "             'lack': 2,\n",
              "             'make': 2,\n",
              "             'side': 2,\n",
              "             'diabetes': 2,\n",
              "             'effect': 2,\n",
              "             'sugar': 2,\n",
              "             'thoughts': 3,\n",
              "             'suicidal': 2,\n",
              "             'blood': 2,\n",
              "             'low': 2,\n",
              "             'long': 2,\n",
              "             'last': 2,\n",
              "             'stages': 1,\n",
              "             'peak': 2,\n",
              "             'at': 2,\n",
              "             'bad': 2,\n",
              "             'why': 2,\n",
              "             '3': 2,\n",
              "             'rule': 2,\n",
              "             'do': 6,\n",
              "             'control': 2,\n",
              "             'we': 6,\n",
              "             'our': 2,\n",
              "             'day': 2,\n",
              "             'many': 2,\n",
              "             'reduce': 2,\n",
              "             'lonely': 2,\n",
              "             'me': 2,\n",
              "             'likes': 1,\n",
              "             'one': 2,\n",
              "             'no': 2,\n",
              "             'ugly': 2,\n",
              "             'think': 4,\n",
              "             'than': 2,\n",
              "             'was': 1,\n",
              "             'better': 2,\n",
              "             'them': 2,\n",
              "             'wish': 6,\n",
              "             'hate': 4,\n",
              "             'winner': 2,\n",
              "             \"could've\": 1,\n",
              "             'been': 2,\n",
              "             'losing': 4,\n",
              "             'mind': 2,\n",
              "             \"i'm\": 1,\n",
              "             'break': 2,\n",
              "             'out': 2,\n",
              "             'in': 2,\n",
              "             'never': 2,\n",
              "             'succeed': 2,\n",
              "             'life': 2,\n",
              "             'bullying': 4,\n",
              "             'victim': 2,\n",
              "             'case': 2,\n",
              "             'against': 2,\n",
              "             'file': 2,\n",
              "             'quit': 2,\n",
              "             'leave': 2,\n",
              "             'away': 2,\n",
              "             'ntry': 2,\n",
              "             'cou': 2,\n",
              "             'run': 2,\n",
              "             'everyojokne': 2,\n",
              "             'this': 2,\n",
              "             'anymore': 2,\n",
              "             \"can't\": 1,\n",
              "             'time': 2,\n",
              "             'come': 2,\n",
              "             'anxious': 2,\n",
              "             'parent': 1,\n",
              "             'type': 1,\n",
              "             'ha': 5,\n",
              "             'doe': 2,\n",
              "             'thought': 3,\n",
              "             'stage': 1,\n",
              "             'like': 1,\n",
              "             'wa': 1,\n",
              "             'couldve': 1,\n",
              "             'im': 1,\n",
              "             'cant': 1})"
            ]
          },
          "metadata": {},
          "execution_count": 22
        }
      ]
    },
    {
      "cell_type": "code",
      "source": [
        "encoded_docs = tokenizer.texts_to_matrix(X)\n",
        "\n",
        "encoded_docs"
      ],
      "metadata": {
        "colab": {
          "base_uri": "https://localhost:8080/"
        },
        "id": "SOSnR5rHiu3k",
        "outputId": "9eaf869d-3267-4dac-d4b1-5b2680380414"
      },
      "execution_count": 50,
      "outputs": [
        {
          "output_type": "execute_result",
          "data": {
            "text/plain": [
              "array([[0., 0., 1., ..., 0., 0., 0.],\n",
              "       [0., 1., 0., ..., 0., 0., 0.],\n",
              "       [0., 0., 1., ..., 0., 0., 0.],\n",
              "       ...,\n",
              "       [0., 1., 0., ..., 0., 0., 1.],\n",
              "       [0., 0., 0., ..., 0., 0., 0.],\n",
              "       [0., 1., 0., ..., 0., 0., 0.]])"
            ]
          },
          "metadata": {},
          "execution_count": 50
        }
      ]
    },
    {
      "cell_type": "code",
      "source": [
        "encoded_docs.shape"
      ],
      "metadata": {
        "colab": {
          "base_uri": "https://localhost:8080/"
        },
        "id": "_P1LiRkJitou",
        "outputId": "652f68bb-afda-43e3-e886-c6a547b6a333"
      },
      "execution_count": null,
      "outputs": [
        {
          "output_type": "execute_result",
          "data": {
            "text/plain": [
              "(51, 137)"
            ]
          },
          "metadata": {},
          "execution_count": 56
        }
      ]
    },
    {
      "cell_type": "code",
      "source": [
        "keras = tf.keras"
      ],
      "metadata": {
        "id": "l6D8gvwynB_M"
      },
      "execution_count": 52,
      "outputs": []
    },
    {
      "cell_type": "code",
      "source": [
        "model = keras.models.Sequential()"
      ],
      "metadata": {
        "id": "wDzdaL94nB4x"
      },
      "execution_count": 53,
      "outputs": []
    },
    {
      "cell_type": "code",
      "source": [
        "model.add(keras.layers.Dense(128, input_shape = (encoded_docs[0].shape)))\n",
        "model.add(keras.layers.Dense(512, activation = \"relu\"))\n",
        "model.add(keras.layers.BatchNormalization())\n",
        "model.add(keras.layers.Dense(512, activation = \"relu\"))\n",
        "model.add(keras.layers.Dense(128, activation = \"relu\"))\n",
        "model.add(keras.layers.Dropout(0.25))\n",
        "model.add(keras.layers.Dense(51, activation = \"softmax\"))"
      ],
      "metadata": {
        "id": "jAckvCk4nBOZ"
      },
      "execution_count": 54,
      "outputs": []
    },
    {
      "cell_type": "markdown",
      "source": [],
      "metadata": {
        "id": "b3sDWfHXnzeS"
      }
    },
    {
      "cell_type": "code",
      "source": [
        "model.summary()"
      ],
      "metadata": {
        "colab": {
          "base_uri": "https://localhost:8080/"
        },
        "id": "Hynz78g7nA99",
        "outputId": "af990770-3e8a-46b4-92a6-b12255d2cdf3"
      },
      "execution_count": 24,
      "outputs": [
        {
          "output_type": "stream",
          "name": "stdout",
          "text": [
            "Model: \"sequential\"\n",
            "_________________________________________________________________\n",
            " Layer (type)                Output Shape              Param #   \n",
            "=================================================================\n",
            " dense (Dense)               (None, 128)               17664     \n",
            "                                                                 \n",
            " dense_1 (Dense)             (None, 512)               66048     \n",
            "                                                                 \n",
            " batch_normalization (BatchN  (None, 512)              2048      \n",
            " ormalization)                                                   \n",
            "                                                                 \n",
            " dense_2 (Dense)             (None, 512)               262656    \n",
            "                                                                 \n",
            " dense_3 (Dense)             (None, 128)               65664     \n",
            "                                                                 \n",
            " dropout (Dropout)           (None, 128)               0         \n",
            "                                                                 \n",
            " dense_4 (Dense)             (None, 51)                6579      \n",
            "                                                                 \n",
            "=================================================================\n",
            "Total params: 420,659\n",
            "Trainable params: 419,635\n",
            "Non-trainable params: 1,024\n",
            "_________________________________________________________________\n"
          ]
        }
      ]
    },
    {
      "cell_type": "code",
      "source": [
        "model.compile(optimizer = \"sgd\", loss = \"categorical_crossentropy\", metrics = [\"accuracy\"])"
      ],
      "metadata": {
        "id": "dW2Nf1Lbpfce"
      },
      "execution_count": 55,
      "outputs": []
    },
    {
      "cell_type": "code",
      "source": [
        "model.fit(encoded_docs, ytrain, epochs = 50, shuffle = True)"
      ],
      "metadata": {
        "colab": {
          "base_uri": "https://localhost:8080/"
        },
        "id": "ToXehlezpfTU",
        "outputId": "32314d83-624a-4003-e2a5-5297aa1c6743"
      },
      "execution_count": 59,
      "outputs": [
        {
          "output_type": "stream",
          "name": "stdout",
          "text": [
            "Epoch 1/50\n",
            "2/2 [==============================] - 1s 12ms/step - loss: 4.1023 - accuracy: 0.0196\n",
            "Epoch 2/50\n",
            "2/2 [==============================] - 0s 12ms/step - loss: 3.7853 - accuracy: 0.0784\n",
            "Epoch 3/50\n",
            "2/2 [==============================] - 0s 13ms/step - loss: 3.6118 - accuracy: 0.0980\n",
            "Epoch 4/50\n",
            "2/2 [==============================] - 0s 12ms/step - loss: 3.4233 - accuracy: 0.1176\n",
            "Epoch 5/50\n",
            "2/2 [==============================] - 0s 12ms/step - loss: 3.3130 - accuracy: 0.1961\n",
            "Epoch 6/50\n",
            "2/2 [==============================] - 0s 17ms/step - loss: 3.0487 - accuracy: 0.3529\n",
            "Epoch 7/50\n",
            "2/2 [==============================] - 0s 11ms/step - loss: 2.9233 - accuracy: 0.3922\n",
            "Epoch 8/50\n",
            "2/2 [==============================] - 0s 12ms/step - loss: 2.7111 - accuracy: 0.4902\n",
            "Epoch 9/50\n",
            "2/2 [==============================] - 0s 11ms/step - loss: 2.5932 - accuracy: 0.5686\n",
            "Epoch 10/50\n",
            "2/2 [==============================] - 0s 13ms/step - loss: 2.4825 - accuracy: 0.5098\n",
            "Epoch 11/50\n",
            "2/2 [==============================] - 0s 12ms/step - loss: 2.3107 - accuracy: 0.6471\n",
            "Epoch 12/50\n",
            "2/2 [==============================] - 0s 17ms/step - loss: 2.2740 - accuracy: 0.6667\n",
            "Epoch 13/50\n",
            "2/2 [==============================] - 0s 11ms/step - loss: 2.2268 - accuracy: 0.7451\n",
            "Epoch 14/50\n",
            "2/2 [==============================] - 0s 16ms/step - loss: 2.0654 - accuracy: 0.8039\n",
            "Epoch 15/50\n",
            "2/2 [==============================] - 0s 12ms/step - loss: 1.9405 - accuracy: 0.8235\n",
            "Epoch 16/50\n",
            "2/2 [==============================] - 0s 12ms/step - loss: 1.9758 - accuracy: 0.7843\n",
            "Epoch 17/50\n",
            "2/2 [==============================] - 0s 14ms/step - loss: 1.8105 - accuracy: 0.8431\n",
            "Epoch 18/50\n",
            "2/2 [==============================] - 0s 12ms/step - loss: 1.7486 - accuracy: 0.8431\n",
            "Epoch 19/50\n",
            "2/2 [==============================] - 0s 11ms/step - loss: 1.6158 - accuracy: 0.8235\n",
            "Epoch 20/50\n",
            "2/2 [==============================] - 0s 13ms/step - loss: 1.5248 - accuracy: 0.9412\n",
            "Epoch 21/50\n",
            "2/2 [==============================] - 0s 11ms/step - loss: 1.4686 - accuracy: 0.9020\n",
            "Epoch 22/50\n",
            "2/2 [==============================] - 0s 12ms/step - loss: 1.5090 - accuracy: 0.8235\n",
            "Epoch 23/50\n",
            "2/2 [==============================] - 0s 13ms/step - loss: 1.3843 - accuracy: 0.9216\n",
            "Epoch 24/50\n",
            "2/2 [==============================] - 0s 12ms/step - loss: 1.3574 - accuracy: 0.8824\n",
            "Epoch 25/50\n",
            "2/2 [==============================] - 0s 12ms/step - loss: 1.2224 - accuracy: 0.9216\n",
            "Epoch 26/50\n",
            "2/2 [==============================] - 0s 11ms/step - loss: 1.0989 - accuracy: 0.9412\n",
            "Epoch 27/50\n",
            "2/2 [==============================] - 0s 12ms/step - loss: 1.1552 - accuracy: 0.9216\n",
            "Epoch 28/50\n",
            "2/2 [==============================] - 0s 13ms/step - loss: 1.1381 - accuracy: 0.8824\n",
            "Epoch 29/50\n",
            "2/2 [==============================] - 0s 11ms/step - loss: 1.0620 - accuracy: 0.9412\n",
            "Epoch 30/50\n",
            "2/2 [==============================] - 0s 12ms/step - loss: 0.9683 - accuracy: 0.9216\n",
            "Epoch 31/50\n",
            "2/2 [==============================] - 0s 11ms/step - loss: 0.9658 - accuracy: 0.9608\n",
            "Epoch 32/50\n",
            "2/2 [==============================] - 0s 15ms/step - loss: 0.8733 - accuracy: 0.9608\n",
            "Epoch 33/50\n",
            "2/2 [==============================] - 0s 13ms/step - loss: 0.9365 - accuracy: 0.9020\n",
            "Epoch 34/50\n",
            "2/2 [==============================] - 0s 12ms/step - loss: 0.8364 - accuracy: 0.9020\n",
            "Epoch 35/50\n",
            "2/2 [==============================] - 0s 11ms/step - loss: 0.8619 - accuracy: 0.9608\n",
            "Epoch 36/50\n",
            "2/2 [==============================] - 0s 12ms/step - loss: 0.8127 - accuracy: 0.9608\n",
            "Epoch 37/50\n",
            "2/2 [==============================] - 0s 14ms/step - loss: 0.7236 - accuracy: 0.9804\n",
            "Epoch 38/50\n",
            "2/2 [==============================] - 0s 12ms/step - loss: 0.9051 - accuracy: 0.9412\n",
            "Epoch 39/50\n",
            "2/2 [==============================] - 0s 15ms/step - loss: 0.6427 - accuracy: 0.9412\n",
            "Epoch 40/50\n",
            "2/2 [==============================] - 0s 12ms/step - loss: 0.7767 - accuracy: 0.9608\n",
            "Epoch 41/50\n",
            "2/2 [==============================] - 0s 11ms/step - loss: 0.7169 - accuracy: 0.9412\n",
            "Epoch 42/50\n",
            "2/2 [==============================] - 0s 10ms/step - loss: 0.6549 - accuracy: 0.9020\n",
            "Epoch 43/50\n",
            "2/2 [==============================] - 0s 12ms/step - loss: 0.6074 - accuracy: 0.9608\n",
            "Epoch 44/50\n",
            "2/2 [==============================] - 0s 16ms/step - loss: 0.5883 - accuracy: 0.9412\n",
            "Epoch 45/50\n",
            "2/2 [==============================] - 0s 13ms/step - loss: 0.5967 - accuracy: 0.9804\n",
            "Epoch 46/50\n",
            "2/2 [==============================] - 0s 12ms/step - loss: 0.5971 - accuracy: 0.9608\n",
            "Epoch 47/50\n",
            "2/2 [==============================] - 0s 12ms/step - loss: 0.5355 - accuracy: 0.9608\n",
            "Epoch 48/50\n",
            "2/2 [==============================] - 0s 12ms/step - loss: 0.5717 - accuracy: 0.9608\n",
            "Epoch 49/50\n",
            "2/2 [==============================] - 0s 12ms/step - loss: 0.5170 - accuracy: 0.9608\n",
            "Epoch 50/50\n",
            "2/2 [==============================] - 0s 11ms/step - loss: 0.5089 - accuracy: 0.9608\n"
          ]
        },
        {
          "output_type": "execute_result",
          "data": {
            "text/plain": [
              "<keras.callbacks.History at 0x7fcb4775bd50>"
            ]
          },
          "metadata": {},
          "execution_count": 59
        }
      ]
    },
    {
      "cell_type": "code",
      "source": [
        "sample = encoded_docs[6].reshape(1,137)\n",
        "sample.shape"
      ],
      "metadata": {
        "id": "xztMCJZhr64w",
        "outputId": "581ab2bd-1b7b-4dca-bb1c-b9903dc4ddf0",
        "colab": {
          "base_uri": "https://localhost:8080/"
        }
      },
      "execution_count": null,
      "outputs": [
        {
          "output_type": "execute_result",
          "data": {
            "text/plain": [
              "(1, 137)"
            ]
          },
          "metadata": {},
          "execution_count": 85
        }
      ]
    },
    {
      "cell_type": "code",
      "source": [
        "output = model.predict(sample)"
      ],
      "metadata": {
        "colab": {
          "base_uri": "https://localhost:8080/"
        },
        "id": "hhKoj7JfpfLW",
        "outputId": "9205feb0-e6cc-4e85-91e2-8c5aced8dcc4"
      },
      "execution_count": null,
      "outputs": [
        {
          "output_type": "stream",
          "name": "stdout",
          "text": [
            "1/1 [==============================] - 0s 25ms/step\n"
          ]
        }
      ]
    },
    {
      "cell_type": "code",
      "source": [
        "np.argmax(output[0])"
      ],
      "metadata": {
        "colab": {
          "base_uri": "https://localhost:8080/"
        },
        "id": "LnnWLzClpfF0",
        "outputId": "dac4613d-8f1e-4efb-facd-4b6be9904949"
      },
      "execution_count": null,
      "outputs": [
        {
          "output_type": "execute_result",
          "data": {
            "text/plain": [
              "6"
            ]
          },
          "metadata": {},
          "execution_count": 87
        }
      ]
    },
    {
      "cell_type": "code",
      "source": [
        "output[0].index"
      ],
      "metadata": {
        "id": "Mh9tJfa2penY"
      },
      "execution_count": null,
      "outputs": []
    },
    {
      "cell_type": "code",
      "source": [
        "model.save(\"depression2.h5\")"
      ],
      "metadata": {
        "id": "N7iVQOS2nAxn"
      },
      "execution_count": 60,
      "outputs": []
    },
    {
      "cell_type": "code",
      "source": [
        "def Clean(text):\n",
        "  tokens = text.split()\n",
        "  cleaned = []\n",
        "  for token in tokens:\n",
        "    word = re.sub(exp, \"\", token)\n",
        "    cleaned.append(lemmatizer.lemmatize(word))\n",
        "\n",
        "  return cleaned\n"
      ],
      "metadata": {
        "id": "Vs8lj4PjnAhP"
      },
      "execution_count": 25,
      "outputs": []
    },
    {
      "cell_type": "code",
      "source": [
        "output = [Clean(\"i want to die\")]"
      ],
      "metadata": {
        "id": "NHBxOcOunRJf"
      },
      "execution_count": 35,
      "outputs": []
    },
    {
      "cell_type": "code",
      "source": [
        "transformed = tokenizer.texts_to_matrix(output, mode = \"count\")"
      ],
      "metadata": {
        "id": "12WqRQbSnRBM"
      },
      "execution_count": 36,
      "outputs": []
    },
    {
      "cell_type": "code",
      "source": [
        "transformed.shape"
      ],
      "metadata": {
        "id": "SgzUaS3GnQ0t",
        "outputId": "95198ece-814c-4795-c0af-463eb419f37e",
        "colab": {
          "base_uri": "https://localhost:8080/"
        }
      },
      "execution_count": 37,
      "outputs": [
        {
          "output_type": "execute_result",
          "data": {
            "text/plain": [
              "(1, 137)"
            ]
          },
          "metadata": {},
          "execution_count": 37
        }
      ]
    },
    {
      "cell_type": "code",
      "source": [
        "transformed"
      ],
      "metadata": {
        "id": "zgPeD5UlnQus",
        "outputId": "1fdf959d-0c0a-4a1c-aa82-734f3bf68e7d",
        "colab": {
          "base_uri": "https://localhost:8080/"
        }
      },
      "execution_count": 38,
      "outputs": [
        {
          "output_type": "execute_result",
          "data": {
            "text/plain": [
              "array([[0., 1., 0., 0., 0., 0., 0., 0., 0., 0., 0., 0., 0., 1., 0., 0.,\n",
              "        0., 0., 0., 1., 0., 0., 0., 0., 0., 0., 0., 0., 0., 0., 0., 0.,\n",
              "        0., 0., 0., 0., 0., 0., 0., 0., 0., 0., 0., 0., 0., 0., 0., 0.,\n",
              "        0., 0., 0., 0., 0., 0., 0., 0., 0., 0., 0., 0., 0., 0., 0., 0.,\n",
              "        0., 0., 0., 0., 0., 0., 0., 0., 0., 0., 0., 0., 0., 0., 0., 0.,\n",
              "        0., 0., 0., 0., 0., 0., 0., 0., 0., 0., 0., 0., 0., 0., 0., 0.,\n",
              "        0., 0., 0., 0., 0., 0., 0., 0., 0., 0., 0., 0., 0., 0., 0., 0.,\n",
              "        0., 0., 0., 0., 0., 0., 0., 0., 0., 0., 0., 0., 0., 0., 0., 0.,\n",
              "        0., 0., 0., 0., 0., 0., 0., 0., 0.]])"
            ]
          },
          "metadata": {},
          "execution_count": 38
        }
      ]
    },
    {
      "cell_type": "code",
      "source": [
        "import numpy as np"
      ],
      "metadata": {
        "id": "ZjDVubzVtZW-"
      },
      "execution_count": 43,
      "outputs": []
    },
    {
      "cell_type": "code",
      "source": [
        "def predict(text):\n",
        "  cleaned_text = Clean(text)\n",
        "  text = [cleaned_text]\n",
        "  encoded = tokenizer.texts_to_matrix(text, mode = \"count\")\n",
        "  encoded = encoded.reshape((1, 137))\n",
        "  prediction = model.predict(encoded)\n",
        "  pred_class = np.argmax(prediction[0])\n",
        "  return ytrain[pred_class]"
      ],
      "metadata": {
        "id": "eEMNIyayqVD1"
      },
      "execution_count": 44,
      "outputs": []
    },
    {
      "cell_type": "code",
      "source": [
        "predict(\" what is depression\")"
      ],
      "metadata": {
        "id": "Xgu_ABH8qU-R",
        "outputId": "1a95d1d2-8c0f-478a-bc31-93d9f4a76299",
        "colab": {
          "base_uri": "https://localhost:8080/",
          "height": 90
        }
      },
      "execution_count": 70,
      "outputs": [
        {
          "output_type": "stream",
          "name": "stdout",
          "text": [
            "1/1 [==============================] - 0s 21ms/step\n"
          ]
        },
        {
          "output_type": "execute_result",
          "data": {
            "text/plain": [
              "'Depression\\xa0is a mood disorder that causes a persistent feeling of sadness and loss of interest. Also called major\\xa0depressive\\xa0disorder or clinical\\xa0depression, it affects how you feel, think and behave and can lead to a variety of emotional and physical problems.'"
            ],
            "application/vnd.google.colaboratory.intrinsic+json": {
              "type": "string"
            }
          },
          "metadata": {},
          "execution_count": 70
        }
      ]
    },
    {
      "cell_type": "code",
      "source": [
        "Xtrain"
      ],
      "metadata": {
        "id": "sgDy9X9BqU5f",
        "outputId": "f4ebbe4a-0dce-4920-b870-304b051ed921",
        "colab": {
          "base_uri": "https://localhost:8080/"
        }
      },
      "execution_count": 66,
      "outputs": [
        {
          "output_type": "execute_result",
          "data": {
            "text/plain": [
              "['What Is Depression?',\n",
              " 'I feel i have let my parents down',\n",
              " 'What are the types of depression?',\n",
              " 'I am good for nothing.',\n",
              " 'I am feeling stressed lately',\n",
              " 'i want to kill myself',\n",
              " 'i am afraid i will fail again',\n",
              " 'What is Depression?',\n",
              " 'What are the causes of depression?',\n",
              " 'What are the top causes of depression?',\n",
              " 'Which age group has the highest rate of depression?',\n",
              " 'Which country has the highest rate of depression?',\n",
              " 'Which country has the lowest rate of depression?',\n",
              " 'Is school a cause of depression?',\n",
              " 'What is the biological cause of depression?',\n",
              " 'How does depression affect the world?',\n",
              " 'Which race has the highest rate of depression?',\n",
              " 'What is the meaning of anxiety and depression?',\n",
              " 'Does oversleeping cause depression?',\n",
              " 'Can lack of sleep make you feel sad?',\n",
              " 'Is depression a side effect of diabetes?',\n",
              " 'Can low blood sugar cause suicidal thoughts?',\n",
              " 'How long can Anxiety last?',\n",
              " 'What are the stages of anxiety?',\n",
              " 'At what age does anxiety peak?',\n",
              " 'Why is anxiety bad for you?',\n",
              " 'What is the 3 3 3 rule for anxiety?',\n",
              " 'Do we control our thoughts?',\n",
              " 'How many thoughts a day do we have?',\n",
              " 'How can we reduce anxiety?',\n",
              " 'I am lonely!',\n",
              " 'No one likes me!',\n",
              " 'I think I am ugly!',\n",
              " 'I am good for nothing!',\n",
              " 'I wish I was better than them',\n",
              " 'I hate myself!',\n",
              " \"I wish I could've been a winner\",\n",
              " 'I hate losing.',\n",
              " \"I think I'm losing my mind\",\n",
              " 'I want a break',\n",
              " 'I am stressed out',\n",
              " 'I will never succeed in life',\n",
              " 'I am sad',\n",
              " 'I am a victim of bullying',\n",
              " 'I am afraid to file a case against bullying',\n",
              " 'I wish to quit',\n",
              " 'I want to leave the cou ntry and run away',\n",
              " 'I let everyojokne down',\n",
              " \"I can't do this anymore\",\n",
              " 'My time has come',\n",
              " 'I am feeling anxious lately.']"
            ]
          },
          "metadata": {},
          "execution_count": 66
        }
      ]
    },
    {
      "cell_type": "code",
      "source": [],
      "metadata": {
        "id": "m3DJBqPKqUvA"
      },
      "execution_count": null,
      "outputs": []
    },
    {
      "cell_type": "code",
      "source": [],
      "metadata": {
        "id": "DUq8AxXXqUhh"
      },
      "execution_count": null,
      "outputs": []
    },
    {
      "cell_type": "code",
      "source": [],
      "metadata": {
        "id": "7iFhAB5IqUb8"
      },
      "execution_count": null,
      "outputs": []
    },
    {
      "cell_type": "code",
      "source": [],
      "metadata": {
        "id": "nK9JpyPmqUOt"
      },
      "execution_count": null,
      "outputs": []
    },
    {
      "cell_type": "code",
      "source": [],
      "metadata": {
        "id": "Ati2789snQed"
      },
      "execution_count": null,
      "outputs": []
    }
  ]
}